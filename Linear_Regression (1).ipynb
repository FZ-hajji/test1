{
  "nbformat": 4,
  "nbformat_minor": 0,
  "metadata": {
    "kernelspec": {
      "display_name": "Python 3",
      "language": "python",
      "name": "python3"
    },
    "language_info": {
      "codemirror_mode": {
        "name": "ipython",
        "version": 3
      },
      "file_extension": ".py",
      "mimetype": "text/x-python",
      "name": "python",
      "nbconvert_exporter": "python",
      "pygments_lexer": "ipython3",
      "version": "3.7.6-final"
    },
    "nav_menu": {},
    "toc": {
      "navigate_menu": true,
      "number_sections": true,
      "sideBar": true,
      "threshold": 6,
      "toc_cell": false,
      "toc_section_display": "block",
      "toc_window_display": true
    },
    "toc_position": {
      "height": "616px",
      "left": "0px",
      "right": "20px",
      "top": "106px",
      "width": "213px"
    },
    "colab": {
      "name": "Linear_Regression.ipynb",
      "provenance": []
    }
  },
  "cells": [
    {
      "cell_type": "markdown",
      "metadata": {
        "id": "UYKFZHBPemyb"
      },
      "source": [
        "<table align=\"left\">\n",
        "  <td>\n",
        "    <a target=\"_blank\" href=\"https://colab.research.google.com/github/AbdelMahm/FSR/blob/master/IDDLO-29-20/Notebooks/Linear_Regression.ipynb\"><img src=\"https://colab.research.google.com/img/colab_favicon_256px.png\" />Run in Google Colab</a>\n",
        "  </td>\n",
        "</table>"
      ]
    },
    {
      "cell_type": "markdown",
      "metadata": {
        "id": "TwytyQoPemyh"
      },
      "source": [
        "# Linear Regression"
      ]
    },
    {
      "cell_type": "markdown",
      "metadata": {
        "id": "H-0XkJCLemyi"
      },
      "source": [
        "## imports"
      ]
    },
    {
      "cell_type": "code",
      "metadata": {
        "collapsed": true,
        "id": "kzHyIIhlemyj"
      },
      "source": [
        "import sys\n",
        "import sklearn\n",
        "import os\n",
        "%matplotlib inline\n",
        "import matplotlib as mpl\n",
        "import matplotlib.pyplot as plt\n",
        "import numpy as np\n",
        "import pandas as pd\n",
        "import sklearn.linear_model\n",
        "import urllib.request\n",
        "from sklearn import preprocessing\n",
        "from sklearn import pipeline"
      ],
      "execution_count": 252,
      "outputs": []
    },
    {
      "cell_type": "markdown",
      "metadata": {
        "id": "95RupZfPemym"
      },
      "source": [
        "## Download data"
      ]
    },
    {
      "cell_type": "code",
      "metadata": {
        "id": "siT9NCQ3emym",
        "colab": {
          "base_uri": "https://localhost:8080/"
        },
        "outputId": "cb308b45-727a-47be-9bc8-f6a0f4ad5355"
      },
      "source": [
        "import urllib.request\n",
        "data_path = os.path.join(\"datasets\", \"\")\n",
        "download_path = \"https://raw.githubusercontent.com/AbdelMahm/FSR/master/IDDLO-29-20/Notebooks/datasets/\"\n",
        "os.makedirs(data_path, exist_ok=True)\n",
        "for filename in (\"oecd_bli_2015.csv\", \"gdp_per_capita.csv\"):\n",
        "    print(\"Downloading\", filename)\n",
        "    url = download_path + filename\n",
        "    urllib.request.urlretrieve(url, data_path + filename)"
      ],
      "execution_count": 253,
      "outputs": [
        {
          "output_type": "stream",
          "name": "stdout",
          "text": [
            "Downloading oecd_bli_2015.csv\n",
            "Downloading gdp_per_capita.csv\n"
          ]
        }
      ]
    },
    {
      "cell_type": "code",
      "metadata": {
        "collapsed": true,
        "id": "GCvCbQPmemyn"
      },
      "source": [
        "oecd_bli = pd.read_csv(data_path + \"oecd_bli_2015.csv\", thousands=',')\n",
        "gdp_per_capita = pd.read_csv(data_path + \"gdp_per_capita.csv\",thousands=',',delimiter='\\t',\n",
        "                             encoding='latin1', na_values=\"n/a\")"
      ],
      "execution_count": 254,
      "outputs": []
    },
    {
      "cell_type": "code",
      "metadata": {
        "scrolled": true,
        "id": "i51Kg_gPemyp",
        "colab": {
          "base_uri": "https://localhost:8080/",
          "height": 513
        },
        "outputId": "a7809ce7-fad6-482d-b0c7-b7eb7531a2fd"
      },
      "source": [
        "#take a look to the first file\n",
        "oecd_bli.head()"
      ],
      "execution_count": 255,
      "outputs": [
        {
          "output_type": "execute_result",
          "data": {
            "text/html": [
              "<div>\n",
              "<style scoped>\n",
              "    .dataframe tbody tr th:only-of-type {\n",
              "        vertical-align: middle;\n",
              "    }\n",
              "\n",
              "    .dataframe tbody tr th {\n",
              "        vertical-align: top;\n",
              "    }\n",
              "\n",
              "    .dataframe thead th {\n",
              "        text-align: right;\n",
              "    }\n",
              "</style>\n",
              "<table border=\"1\" class=\"dataframe\">\n",
              "  <thead>\n",
              "    <tr style=\"text-align: right;\">\n",
              "      <th></th>\n",
              "      <th>LOCATION</th>\n",
              "      <th>Country</th>\n",
              "      <th>INDICATOR</th>\n",
              "      <th>Indicator</th>\n",
              "      <th>MEASURE</th>\n",
              "      <th>Measure</th>\n",
              "      <th>INEQUALITY</th>\n",
              "      <th>Inequality</th>\n",
              "      <th>Unit Code</th>\n",
              "      <th>Unit</th>\n",
              "      <th>PowerCode Code</th>\n",
              "      <th>PowerCode</th>\n",
              "      <th>Reference Period Code</th>\n",
              "      <th>Reference Period</th>\n",
              "      <th>Value</th>\n",
              "      <th>Flag Codes</th>\n",
              "      <th>Flags</th>\n",
              "    </tr>\n",
              "  </thead>\n",
              "  <tbody>\n",
              "    <tr>\n",
              "      <th>0</th>\n",
              "      <td>AUS</td>\n",
              "      <td>Australia</td>\n",
              "      <td>HO_BASE</td>\n",
              "      <td>Dwellings without basic facilities</td>\n",
              "      <td>L</td>\n",
              "      <td>Value</td>\n",
              "      <td>TOT</td>\n",
              "      <td>Total</td>\n",
              "      <td>PC</td>\n",
              "      <td>Percentage</td>\n",
              "      <td>0</td>\n",
              "      <td>units</td>\n",
              "      <td>NaN</td>\n",
              "      <td>NaN</td>\n",
              "      <td>1.1</td>\n",
              "      <td>E</td>\n",
              "      <td>Estimated value</td>\n",
              "    </tr>\n",
              "    <tr>\n",
              "      <th>1</th>\n",
              "      <td>AUT</td>\n",
              "      <td>Austria</td>\n",
              "      <td>HO_BASE</td>\n",
              "      <td>Dwellings without basic facilities</td>\n",
              "      <td>L</td>\n",
              "      <td>Value</td>\n",
              "      <td>TOT</td>\n",
              "      <td>Total</td>\n",
              "      <td>PC</td>\n",
              "      <td>Percentage</td>\n",
              "      <td>0</td>\n",
              "      <td>units</td>\n",
              "      <td>NaN</td>\n",
              "      <td>NaN</td>\n",
              "      <td>1.0</td>\n",
              "      <td>NaN</td>\n",
              "      <td>NaN</td>\n",
              "    </tr>\n",
              "    <tr>\n",
              "      <th>2</th>\n",
              "      <td>BEL</td>\n",
              "      <td>Belgium</td>\n",
              "      <td>HO_BASE</td>\n",
              "      <td>Dwellings without basic facilities</td>\n",
              "      <td>L</td>\n",
              "      <td>Value</td>\n",
              "      <td>TOT</td>\n",
              "      <td>Total</td>\n",
              "      <td>PC</td>\n",
              "      <td>Percentage</td>\n",
              "      <td>0</td>\n",
              "      <td>units</td>\n",
              "      <td>NaN</td>\n",
              "      <td>NaN</td>\n",
              "      <td>2.0</td>\n",
              "      <td>NaN</td>\n",
              "      <td>NaN</td>\n",
              "    </tr>\n",
              "    <tr>\n",
              "      <th>3</th>\n",
              "      <td>CAN</td>\n",
              "      <td>Canada</td>\n",
              "      <td>HO_BASE</td>\n",
              "      <td>Dwellings without basic facilities</td>\n",
              "      <td>L</td>\n",
              "      <td>Value</td>\n",
              "      <td>TOT</td>\n",
              "      <td>Total</td>\n",
              "      <td>PC</td>\n",
              "      <td>Percentage</td>\n",
              "      <td>0</td>\n",
              "      <td>units</td>\n",
              "      <td>NaN</td>\n",
              "      <td>NaN</td>\n",
              "      <td>0.2</td>\n",
              "      <td>NaN</td>\n",
              "      <td>NaN</td>\n",
              "    </tr>\n",
              "    <tr>\n",
              "      <th>4</th>\n",
              "      <td>CZE</td>\n",
              "      <td>Czech Republic</td>\n",
              "      <td>HO_BASE</td>\n",
              "      <td>Dwellings without basic facilities</td>\n",
              "      <td>L</td>\n",
              "      <td>Value</td>\n",
              "      <td>TOT</td>\n",
              "      <td>Total</td>\n",
              "      <td>PC</td>\n",
              "      <td>Percentage</td>\n",
              "      <td>0</td>\n",
              "      <td>units</td>\n",
              "      <td>NaN</td>\n",
              "      <td>NaN</td>\n",
              "      <td>0.9</td>\n",
              "      <td>NaN</td>\n",
              "      <td>NaN</td>\n",
              "    </tr>\n",
              "  </tbody>\n",
              "</table>\n",
              "</div>"
            ],
            "text/plain": [
              "  LOCATION         Country INDICATOR  ... Value Flag Codes            Flags\n",
              "0      AUS       Australia   HO_BASE  ...   1.1          E  Estimated value\n",
              "1      AUT         Austria   HO_BASE  ...   1.0        NaN              NaN\n",
              "2      BEL         Belgium   HO_BASE  ...   2.0        NaN              NaN\n",
              "3      CAN          Canada   HO_BASE  ...   0.2        NaN              NaN\n",
              "4      CZE  Czech Republic   HO_BASE  ...   0.9        NaN              NaN\n",
              "\n",
              "[5 rows x 17 columns]"
            ]
          },
          "metadata": {},
          "execution_count": 255
        }
      ]
    },
    {
      "cell_type": "markdown",
      "metadata": {
        "id": "-bIdJ4lFemyq"
      },
      "source": [
        "## Preprocessing"
      ]
    },
    {
      "cell_type": "code",
      "metadata": {
        "id": "Es6IX8Moemyr",
        "colab": {
          "base_uri": "https://localhost:8080/",
          "height": 357
        },
        "outputId": "61b8b41c-674d-4165-bd4a-35ccddd1ddef"
      },
      "source": [
        "oecd_bli = oecd_bli[oecd_bli[\"INEQUALITY\"]==\"TOT\"]\n",
        "oecd_bli = oecd_bli.pivot(index=\"Country\", columns=\"Indicator\", values=\"Value\")\n",
        "oecd_bli.head()\n"
      ],
      "execution_count": 256,
      "outputs": [
        {
          "output_type": "execute_result",
          "data": {
            "text/html": [
              "<div>\n",
              "<style scoped>\n",
              "    .dataframe tbody tr th:only-of-type {\n",
              "        vertical-align: middle;\n",
              "    }\n",
              "\n",
              "    .dataframe tbody tr th {\n",
              "        vertical-align: top;\n",
              "    }\n",
              "\n",
              "    .dataframe thead th {\n",
              "        text-align: right;\n",
              "    }\n",
              "</style>\n",
              "<table border=\"1\" class=\"dataframe\">\n",
              "  <thead>\n",
              "    <tr style=\"text-align: right;\">\n",
              "      <th>Indicator</th>\n",
              "      <th>Air pollution</th>\n",
              "      <th>Assault rate</th>\n",
              "      <th>Consultation on rule-making</th>\n",
              "      <th>Dwellings without basic facilities</th>\n",
              "      <th>Educational attainment</th>\n",
              "      <th>Employees working very long hours</th>\n",
              "      <th>Employment rate</th>\n",
              "      <th>Homicide rate</th>\n",
              "      <th>Household net adjusted disposable income</th>\n",
              "      <th>Household net financial wealth</th>\n",
              "      <th>Housing expenditure</th>\n",
              "      <th>Job security</th>\n",
              "      <th>Life expectancy</th>\n",
              "      <th>Life satisfaction</th>\n",
              "      <th>Long-term unemployment rate</th>\n",
              "      <th>Personal earnings</th>\n",
              "      <th>Quality of support network</th>\n",
              "      <th>Rooms per person</th>\n",
              "      <th>Self-reported health</th>\n",
              "      <th>Student skills</th>\n",
              "      <th>Time devoted to leisure and personal care</th>\n",
              "      <th>Voter turnout</th>\n",
              "      <th>Water quality</th>\n",
              "      <th>Years in education</th>\n",
              "    </tr>\n",
              "    <tr>\n",
              "      <th>Country</th>\n",
              "      <th></th>\n",
              "      <th></th>\n",
              "      <th></th>\n",
              "      <th></th>\n",
              "      <th></th>\n",
              "      <th></th>\n",
              "      <th></th>\n",
              "      <th></th>\n",
              "      <th></th>\n",
              "      <th></th>\n",
              "      <th></th>\n",
              "      <th></th>\n",
              "      <th></th>\n",
              "      <th></th>\n",
              "      <th></th>\n",
              "      <th></th>\n",
              "      <th></th>\n",
              "      <th></th>\n",
              "      <th></th>\n",
              "      <th></th>\n",
              "      <th></th>\n",
              "      <th></th>\n",
              "      <th></th>\n",
              "      <th></th>\n",
              "    </tr>\n",
              "  </thead>\n",
              "  <tbody>\n",
              "    <tr>\n",
              "      <th>Australia</th>\n",
              "      <td>13.0</td>\n",
              "      <td>2.1</td>\n",
              "      <td>10.5</td>\n",
              "      <td>1.1</td>\n",
              "      <td>76.0</td>\n",
              "      <td>14.02</td>\n",
              "      <td>72.0</td>\n",
              "      <td>0.8</td>\n",
              "      <td>31588.0</td>\n",
              "      <td>47657.0</td>\n",
              "      <td>20.0</td>\n",
              "      <td>4.8</td>\n",
              "      <td>82.1</td>\n",
              "      <td>7.3</td>\n",
              "      <td>1.08</td>\n",
              "      <td>50449.0</td>\n",
              "      <td>92.0</td>\n",
              "      <td>2.3</td>\n",
              "      <td>85.0</td>\n",
              "      <td>512.0</td>\n",
              "      <td>14.41</td>\n",
              "      <td>93.0</td>\n",
              "      <td>91.0</td>\n",
              "      <td>19.4</td>\n",
              "    </tr>\n",
              "    <tr>\n",
              "      <th>Austria</th>\n",
              "      <td>27.0</td>\n",
              "      <td>3.4</td>\n",
              "      <td>7.1</td>\n",
              "      <td>1.0</td>\n",
              "      <td>83.0</td>\n",
              "      <td>7.61</td>\n",
              "      <td>72.0</td>\n",
              "      <td>0.4</td>\n",
              "      <td>31173.0</td>\n",
              "      <td>49887.0</td>\n",
              "      <td>21.0</td>\n",
              "      <td>3.9</td>\n",
              "      <td>81.0</td>\n",
              "      <td>6.9</td>\n",
              "      <td>1.19</td>\n",
              "      <td>45199.0</td>\n",
              "      <td>89.0</td>\n",
              "      <td>1.6</td>\n",
              "      <td>69.0</td>\n",
              "      <td>500.0</td>\n",
              "      <td>14.46</td>\n",
              "      <td>75.0</td>\n",
              "      <td>94.0</td>\n",
              "      <td>17.0</td>\n",
              "    </tr>\n",
              "    <tr>\n",
              "      <th>Belgium</th>\n",
              "      <td>21.0</td>\n",
              "      <td>6.6</td>\n",
              "      <td>4.5</td>\n",
              "      <td>2.0</td>\n",
              "      <td>72.0</td>\n",
              "      <td>4.57</td>\n",
              "      <td>62.0</td>\n",
              "      <td>1.1</td>\n",
              "      <td>28307.0</td>\n",
              "      <td>83876.0</td>\n",
              "      <td>21.0</td>\n",
              "      <td>5.0</td>\n",
              "      <td>80.5</td>\n",
              "      <td>6.9</td>\n",
              "      <td>3.88</td>\n",
              "      <td>48082.0</td>\n",
              "      <td>94.0</td>\n",
              "      <td>2.2</td>\n",
              "      <td>74.0</td>\n",
              "      <td>509.0</td>\n",
              "      <td>15.71</td>\n",
              "      <td>89.0</td>\n",
              "      <td>87.0</td>\n",
              "      <td>18.9</td>\n",
              "    </tr>\n",
              "    <tr>\n",
              "      <th>Brazil</th>\n",
              "      <td>18.0</td>\n",
              "      <td>7.9</td>\n",
              "      <td>4.0</td>\n",
              "      <td>6.7</td>\n",
              "      <td>45.0</td>\n",
              "      <td>10.41</td>\n",
              "      <td>67.0</td>\n",
              "      <td>25.5</td>\n",
              "      <td>11664.0</td>\n",
              "      <td>6844.0</td>\n",
              "      <td>21.0</td>\n",
              "      <td>4.6</td>\n",
              "      <td>73.7</td>\n",
              "      <td>7.0</td>\n",
              "      <td>1.97</td>\n",
              "      <td>17177.0</td>\n",
              "      <td>90.0</td>\n",
              "      <td>1.6</td>\n",
              "      <td>69.0</td>\n",
              "      <td>402.0</td>\n",
              "      <td>14.97</td>\n",
              "      <td>79.0</td>\n",
              "      <td>72.0</td>\n",
              "      <td>16.3</td>\n",
              "    </tr>\n",
              "    <tr>\n",
              "      <th>Canada</th>\n",
              "      <td>15.0</td>\n",
              "      <td>1.3</td>\n",
              "      <td>10.5</td>\n",
              "      <td>0.2</td>\n",
              "      <td>89.0</td>\n",
              "      <td>3.94</td>\n",
              "      <td>72.0</td>\n",
              "      <td>1.5</td>\n",
              "      <td>29365.0</td>\n",
              "      <td>67913.0</td>\n",
              "      <td>21.0</td>\n",
              "      <td>6.4</td>\n",
              "      <td>81.5</td>\n",
              "      <td>7.3</td>\n",
              "      <td>0.90</td>\n",
              "      <td>46911.0</td>\n",
              "      <td>92.0</td>\n",
              "      <td>2.5</td>\n",
              "      <td>89.0</td>\n",
              "      <td>522.0</td>\n",
              "      <td>14.25</td>\n",
              "      <td>61.0</td>\n",
              "      <td>91.0</td>\n",
              "      <td>17.2</td>\n",
              "    </tr>\n",
              "  </tbody>\n",
              "</table>\n",
              "</div>"
            ],
            "text/plain": [
              "Indicator  Air pollution  Assault rate  ...  Water quality  Years in education\n",
              "Country                                 ...                                   \n",
              "Australia           13.0           2.1  ...           91.0                19.4\n",
              "Austria             27.0           3.4  ...           94.0                17.0\n",
              "Belgium             21.0           6.6  ...           87.0                18.9\n",
              "Brazil              18.0           7.9  ...           72.0                16.3\n",
              "Canada              15.0           1.3  ...           91.0                17.2\n",
              "\n",
              "[5 rows x 24 columns]"
            ]
          },
          "metadata": {},
          "execution_count": 256
        }
      ]
    },
    {
      "cell_type": "code",
      "metadata": {
        "id": "5DHoy1bOemys",
        "colab": {
          "base_uri": "https://localhost:8080/",
          "height": 204
        },
        "outputId": "f592f180-317a-4bad-d0f3-be194ced4115"
      },
      "source": [
        "#take a look to the first file\n",
        "gdp_per_capita.head()"
      ],
      "execution_count": 257,
      "outputs": [
        {
          "output_type": "execute_result",
          "data": {
            "text/html": [
              "<div>\n",
              "<style scoped>\n",
              "    .dataframe tbody tr th:only-of-type {\n",
              "        vertical-align: middle;\n",
              "    }\n",
              "\n",
              "    .dataframe tbody tr th {\n",
              "        vertical-align: top;\n",
              "    }\n",
              "\n",
              "    .dataframe thead th {\n",
              "        text-align: right;\n",
              "    }\n",
              "</style>\n",
              "<table border=\"1\" class=\"dataframe\">\n",
              "  <thead>\n",
              "    <tr style=\"text-align: right;\">\n",
              "      <th></th>\n",
              "      <th>Country</th>\n",
              "      <th>Subject Descriptor</th>\n",
              "      <th>Units</th>\n",
              "      <th>Scale</th>\n",
              "      <th>Country/Series-specific Notes</th>\n",
              "      <th>2015</th>\n",
              "      <th>Estimates Start After</th>\n",
              "    </tr>\n",
              "  </thead>\n",
              "  <tbody>\n",
              "    <tr>\n",
              "      <th>0</th>\n",
              "      <td>Afghanistan</td>\n",
              "      <td>Gross domestic product per capita, current prices</td>\n",
              "      <td>U.S. dollars</td>\n",
              "      <td>Units</td>\n",
              "      <td>See notes for:  Gross domestic product, curren...</td>\n",
              "      <td>599.994</td>\n",
              "      <td>2013.0</td>\n",
              "    </tr>\n",
              "    <tr>\n",
              "      <th>1</th>\n",
              "      <td>Albania</td>\n",
              "      <td>Gross domestic product per capita, current prices</td>\n",
              "      <td>U.S. dollars</td>\n",
              "      <td>Units</td>\n",
              "      <td>See notes for:  Gross domestic product, curren...</td>\n",
              "      <td>3995.383</td>\n",
              "      <td>2010.0</td>\n",
              "    </tr>\n",
              "    <tr>\n",
              "      <th>2</th>\n",
              "      <td>Algeria</td>\n",
              "      <td>Gross domestic product per capita, current prices</td>\n",
              "      <td>U.S. dollars</td>\n",
              "      <td>Units</td>\n",
              "      <td>See notes for:  Gross domestic product, curren...</td>\n",
              "      <td>4318.135</td>\n",
              "      <td>2014.0</td>\n",
              "    </tr>\n",
              "    <tr>\n",
              "      <th>3</th>\n",
              "      <td>Angola</td>\n",
              "      <td>Gross domestic product per capita, current prices</td>\n",
              "      <td>U.S. dollars</td>\n",
              "      <td>Units</td>\n",
              "      <td>See notes for:  Gross domestic product, curren...</td>\n",
              "      <td>4100.315</td>\n",
              "      <td>2014.0</td>\n",
              "    </tr>\n",
              "    <tr>\n",
              "      <th>4</th>\n",
              "      <td>Antigua and Barbuda</td>\n",
              "      <td>Gross domestic product per capita, current prices</td>\n",
              "      <td>U.S. dollars</td>\n",
              "      <td>Units</td>\n",
              "      <td>See notes for:  Gross domestic product, curren...</td>\n",
              "      <td>14414.302</td>\n",
              "      <td>2011.0</td>\n",
              "    </tr>\n",
              "  </tbody>\n",
              "</table>\n",
              "</div>"
            ],
            "text/plain": [
              "               Country  ... Estimates Start After\n",
              "0          Afghanistan  ...                2013.0\n",
              "1              Albania  ...                2010.0\n",
              "2              Algeria  ...                2014.0\n",
              "3               Angola  ...                2014.0\n",
              "4  Antigua and Barbuda  ...                2011.0\n",
              "\n",
              "[5 rows x 7 columns]"
            ]
          },
          "metadata": {},
          "execution_count": 257
        }
      ]
    },
    {
      "cell_type": "code",
      "metadata": {
        "id": "UxV1joUYemys",
        "colab": {
          "base_uri": "https://localhost:8080/",
          "height": 235
        },
        "outputId": "49917986-7f00-4e3f-f3ef-b4b96a555107"
      },
      "source": [
        "# Preprocessing of the data  (iterested with column \"2015\" which is the \"GDP per capita\")\n",
        "gdp_per_capita.rename(columns={\"2015\": \"GDP per capita\"}, inplace=True)\n",
        "gdp_per_capita.set_index(\"Country\", inplace=True)\n",
        "gdp_per_capita.head()\n"
      ],
      "execution_count": 258,
      "outputs": [
        {
          "output_type": "execute_result",
          "data": {
            "text/html": [
              "<div>\n",
              "<style scoped>\n",
              "    .dataframe tbody tr th:only-of-type {\n",
              "        vertical-align: middle;\n",
              "    }\n",
              "\n",
              "    .dataframe tbody tr th {\n",
              "        vertical-align: top;\n",
              "    }\n",
              "\n",
              "    .dataframe thead th {\n",
              "        text-align: right;\n",
              "    }\n",
              "</style>\n",
              "<table border=\"1\" class=\"dataframe\">\n",
              "  <thead>\n",
              "    <tr style=\"text-align: right;\">\n",
              "      <th></th>\n",
              "      <th>Subject Descriptor</th>\n",
              "      <th>Units</th>\n",
              "      <th>Scale</th>\n",
              "      <th>Country/Series-specific Notes</th>\n",
              "      <th>GDP per capita</th>\n",
              "      <th>Estimates Start After</th>\n",
              "    </tr>\n",
              "    <tr>\n",
              "      <th>Country</th>\n",
              "      <th></th>\n",
              "      <th></th>\n",
              "      <th></th>\n",
              "      <th></th>\n",
              "      <th></th>\n",
              "      <th></th>\n",
              "    </tr>\n",
              "  </thead>\n",
              "  <tbody>\n",
              "    <tr>\n",
              "      <th>Afghanistan</th>\n",
              "      <td>Gross domestic product per capita, current prices</td>\n",
              "      <td>U.S. dollars</td>\n",
              "      <td>Units</td>\n",
              "      <td>See notes for:  Gross domestic product, curren...</td>\n",
              "      <td>599.994</td>\n",
              "      <td>2013.0</td>\n",
              "    </tr>\n",
              "    <tr>\n",
              "      <th>Albania</th>\n",
              "      <td>Gross domestic product per capita, current prices</td>\n",
              "      <td>U.S. dollars</td>\n",
              "      <td>Units</td>\n",
              "      <td>See notes for:  Gross domestic product, curren...</td>\n",
              "      <td>3995.383</td>\n",
              "      <td>2010.0</td>\n",
              "    </tr>\n",
              "    <tr>\n",
              "      <th>Algeria</th>\n",
              "      <td>Gross domestic product per capita, current prices</td>\n",
              "      <td>U.S. dollars</td>\n",
              "      <td>Units</td>\n",
              "      <td>See notes for:  Gross domestic product, curren...</td>\n",
              "      <td>4318.135</td>\n",
              "      <td>2014.0</td>\n",
              "    </tr>\n",
              "    <tr>\n",
              "      <th>Angola</th>\n",
              "      <td>Gross domestic product per capita, current prices</td>\n",
              "      <td>U.S. dollars</td>\n",
              "      <td>Units</td>\n",
              "      <td>See notes for:  Gross domestic product, curren...</td>\n",
              "      <td>4100.315</td>\n",
              "      <td>2014.0</td>\n",
              "    </tr>\n",
              "    <tr>\n",
              "      <th>Antigua and Barbuda</th>\n",
              "      <td>Gross domestic product per capita, current prices</td>\n",
              "      <td>U.S. dollars</td>\n",
              "      <td>Units</td>\n",
              "      <td>See notes for:  Gross domestic product, curren...</td>\n",
              "      <td>14414.302</td>\n",
              "      <td>2011.0</td>\n",
              "    </tr>\n",
              "  </tbody>\n",
              "</table>\n",
              "</div>"
            ],
            "text/plain": [
              "                                                    Subject Descriptor  ... Estimates Start After\n",
              "Country                                                                 ...                      \n",
              "Afghanistan          Gross domestic product per capita, current prices  ...                2013.0\n",
              "Albania              Gross domestic product per capita, current prices  ...                2010.0\n",
              "Algeria              Gross domestic product per capita, current prices  ...                2014.0\n",
              "Angola               Gross domestic product per capita, current prices  ...                2014.0\n",
              "Antigua and Barbuda  Gross domestic product per capita, current prices  ...                2011.0\n",
              "\n",
              "[5 rows x 6 columns]"
            ]
          },
          "metadata": {},
          "execution_count": 258
        }
      ]
    },
    {
      "cell_type": "code",
      "metadata": {
        "collapsed": true,
        "id": "yuvifet6emyt"
      },
      "source": [
        "#merge data  \n",
        "full_country_stats = pd.merge(left=oecd_bli, right=gdp_per_capita,\n",
        "                              left_index=True, right_index=True)\n",
        "full_country_stats.sort_values(by=\"GDP per capita\", inplace=True)\n",
        "\n",
        "data = full_country_stats[[\"GDP per capita\", 'Life satisfaction']]\n"
      ],
      "execution_count": 259,
      "outputs": []
    },
    {
      "cell_type": "markdown",
      "metadata": {
        "id": "GAgbhjOwemyu"
      },
      "source": [
        "## Linear Regression Model"
      ]
    },
    {
      "cell_type": "code",
      "metadata": {
        "id": "aX3puPM0emyu",
        "colab": {
          "base_uri": "https://localhost:8080/",
          "height": 235
        },
        "outputId": "4a6e4fc1-6fc3-42f4-89fb-98103d9cd227"
      },
      "source": [
        "data.head()"
      ],
      "execution_count": 260,
      "outputs": [
        {
          "output_type": "execute_result",
          "data": {
            "text/html": [
              "<div>\n",
              "<style scoped>\n",
              "    .dataframe tbody tr th:only-of-type {\n",
              "        vertical-align: middle;\n",
              "    }\n",
              "\n",
              "    .dataframe tbody tr th {\n",
              "        vertical-align: top;\n",
              "    }\n",
              "\n",
              "    .dataframe thead th {\n",
              "        text-align: right;\n",
              "    }\n",
              "</style>\n",
              "<table border=\"1\" class=\"dataframe\">\n",
              "  <thead>\n",
              "    <tr style=\"text-align: right;\">\n",
              "      <th></th>\n",
              "      <th>GDP per capita</th>\n",
              "      <th>Life satisfaction</th>\n",
              "    </tr>\n",
              "    <tr>\n",
              "      <th>Country</th>\n",
              "      <th></th>\n",
              "      <th></th>\n",
              "    </tr>\n",
              "  </thead>\n",
              "  <tbody>\n",
              "    <tr>\n",
              "      <th>Brazil</th>\n",
              "      <td>8669.998</td>\n",
              "      <td>7.0</td>\n",
              "    </tr>\n",
              "    <tr>\n",
              "      <th>Mexico</th>\n",
              "      <td>9009.280</td>\n",
              "      <td>6.7</td>\n",
              "    </tr>\n",
              "    <tr>\n",
              "      <th>Russia</th>\n",
              "      <td>9054.914</td>\n",
              "      <td>6.0</td>\n",
              "    </tr>\n",
              "    <tr>\n",
              "      <th>Turkey</th>\n",
              "      <td>9437.372</td>\n",
              "      <td>5.6</td>\n",
              "    </tr>\n",
              "    <tr>\n",
              "      <th>Hungary</th>\n",
              "      <td>12239.894</td>\n",
              "      <td>4.9</td>\n",
              "    </tr>\n",
              "  </tbody>\n",
              "</table>\n",
              "</div>"
            ],
            "text/plain": [
              "         GDP per capita  Life satisfaction\n",
              "Country                                   \n",
              "Brazil         8669.998                7.0\n",
              "Mexico         9009.280                6.7\n",
              "Russia         9054.914                6.0\n",
              "Turkey         9437.372                5.6\n",
              "Hungary       12239.894                4.9"
            ]
          },
          "metadata": {},
          "execution_count": 260
        }
      ]
    },
    {
      "cell_type": "code",
      "metadata": {
        "colab": {
          "base_uri": "https://localhost:8080/"
        },
        "id": "_-HQzdRzgZYq",
        "outputId": "0a73f70c-22d7-43ce-911e-a99a8d136bfb"
      },
      "source": [
        "print(data)"
      ],
      "execution_count": 261,
      "outputs": [
        {
          "output_type": "stream",
          "name": "stdout",
          "text": [
            "                 GDP per capita  Life satisfaction\n",
            "Country                                           \n",
            "Brazil                 8669.998                7.0\n",
            "Mexico                 9009.280                6.7\n",
            "Russia                 9054.914                6.0\n",
            "Turkey                 9437.372                5.6\n",
            "Hungary               12239.894                4.9\n",
            "Poland                12495.334                5.8\n",
            "Chile                 13340.905                6.7\n",
            "Slovak Republic       15991.736                6.1\n",
            "Czech Republic        17256.918                6.5\n",
            "Estonia               17288.083                5.6\n",
            "Greece                18064.288                4.8\n",
            "Portugal              19121.592                5.1\n",
            "Slovenia              20732.482                5.7\n",
            "Spain                 25864.721                6.5\n",
            "Korea                 27195.197                5.8\n",
            "Italy                 29866.581                6.0\n",
            "Japan                 32485.545                5.9\n",
            "Israel                35343.336                7.4\n",
            "New Zealand           37044.891                7.3\n",
            "France                37675.006                6.5\n",
            "Belgium               40106.632                6.9\n",
            "Germany               40996.511                7.0\n",
            "Finland               41973.988                7.4\n",
            "Canada                43331.961                7.3\n",
            "Netherlands           43603.115                7.3\n",
            "Austria               43724.031                6.9\n",
            "United Kingdom        43770.688                6.8\n",
            "Sweden                49866.266                7.2\n",
            "Iceland               50854.583                7.5\n",
            "Australia             50961.865                7.3\n",
            "Ireland               51350.744                7.0\n",
            "Denmark               52114.165                7.5\n",
            "United States         55805.204                7.2\n",
            "Norway                74822.106                7.4\n",
            "Switzerland           80675.308                7.5\n",
            "Luxembourg           101994.093                6.9\n"
          ]
        }
      ]
    },
    {
      "cell_type": "markdown",
      "metadata": {
        "id": "rKbfgcaHemyv"
      },
      "source": [
        "### Select some features"
      ]
    },
    {
      "cell_type": "code",
      "metadata": {
        "id": "qgLsyB3Qemyv",
        "colab": {
          "base_uri": "https://localhost:8080/"
        },
        "outputId": "c53a1725-9471-4544-a7ab-cd7454050659"
      },
      "source": [
        "#select the features you are interested in\n",
        "X = np.c_[data[\"GDP per capita\"]]\n",
        "y = np.c_[data[\"Life satisfaction\"]]\n",
        "np.shape(X)"
      ],
      "execution_count": 262,
      "outputs": [
        {
          "output_type": "execute_result",
          "data": {
            "text/plain": [
              "(36, 1)"
            ]
          },
          "metadata": {},
          "execution_count": 262
        }
      ]
    },
    {
      "cell_type": "markdown",
      "metadata": {
        "id": "vhfZlxz3emyw"
      },
      "source": [
        "### Visualization"
      ]
    },
    {
      "cell_type": "code",
      "metadata": {
        "id": "F4b9Kc-Lemyw",
        "colab": {
          "base_uri": "https://localhost:8080/",
          "height": 237
        },
        "outputId": "1abe0dba-c6e5-45e6-f822-ead91a499a59"
      },
      "source": [
        "# Visualize the sample data\n",
        "mpl.rc('axes', labelsize=14)\n",
        "mpl.rc('xtick', labelsize=12)\n",
        "mpl.rc('ytick', labelsize=12)\n",
        "\n",
        "data.plot(kind='scatter', x=\"GDP per capita\", y='Life satisfaction', figsize=(5,3))\n",
        "plt.axis([0, 60000, 0, 10])\n",
        "\n",
        "plt.xlabel(\"GDP per capita (USD)\")\n",
        "\n",
        "plt.show()\n",
        "#"
      ],
      "execution_count": 263,
      "outputs": [
        {
          "output_type": "display_data",
          "data": {
            "image/png": "[encoded data removed]",
            "text/plain": [
              "<Figure size 360x216 with 1 Axes>"
            ]
          },
          "metadata": {
            "needs_background": "light"
          }
        }
      ]
    },
    {
      "cell_type": "markdown",
      "metadata": {
        "id": "JkElGJVJemyw"
      },
      "source": [
        "### Training"
      ]
    },
    {
      "cell_type": "code",
      "metadata": {
        "id": "Vulo1Xagemyx",
        "colab": {
          "base_uri": "https://localhost:8080/"
        },
        "outputId": "6d701cea-482b-4d72-9b22-f138223a057b"
      },
      "source": [
        "lrModel = sklearn.linear_model.LinearRegression()\n",
        "\n",
        "# Train the model\n",
        "lrModel.fit(X, y)\n",
        "\n",
        "#model parameters\n",
        "w0, w1 = lrModel.intercept_[0], lrModel.coef_[0][0]\n",
        "\n",
        "#R2 (when R2=1, all data is fit -> the Loss(w)=0)\n",
        "print(lrModel.score(X, y))"
      ],
      "execution_count": 264,
      "outputs": [
        {
          "output_type": "stream",
          "name": "stdout",
          "text": [
            "0.40410998750014093\n"
          ]
        }
      ]
    },
    {
      "cell_type": "code",
      "metadata": {
        "id": "znUjRXrremyy",
        "colab": {
          "base_uri": "https://localhost:8080/",
          "height": 237
        },
        "outputId": "faa96c98-2acc-4706-e357-3f36e6d9fd03"
      },
      "source": [
        "#plot\n",
        "data.plot(kind='scatter', x=\"GDP per capita\", y='Life satisfaction', figsize=(5,3))\n",
        "plt.xlabel(\"GDP per capita (USD)\")\n",
        "plt.axis([0, 60000, 0, 10])\n",
        "x=np.linspace(0, 60000, 1000)\n",
        "plt.plot(x, w0 + w1*x, \"b\")\n",
        "\n",
        "#save_fig('best_fit_model_plot')\n",
        "plt.show()"
      ],
      "execution_count": 265,
      "outputs": [
        {
          "output_type": "display_data",
          "data": {
            "image/png": "[encoded data removed]",
            "text/plain": [
              "<Figure size 360x216 with 1 Axes>"
            ]
          },
          "metadata": {
            "needs_background": "light"
          }
        }
      ]
    },
    {
      "cell_type": "markdown",
      "metadata": {
        "id": "qe54tUbiemyy"
      },
      "source": [
        "### Prediction"
      ]
    },
    {
      "cell_type": "code",
      "metadata": {
        "id": "8Mb8inZzemyz",
        "colab": {
          "base_uri": "https://localhost:8080/"
        },
        "outputId": "a7fff3e7-4f4c-4753-f6d0-a5f32d8bf331"
      },
      "source": [
        "# Make a prediction for Cyprus\n",
        "X_new = [[22587]]  # Cyprus' GDP per capita\n",
        "print(lrModel.predict(X_new)) # outputs [[ 5.96242338]]"
      ],
      "execution_count": 266,
      "outputs": [
        {
          "output_type": "stream",
          "name": "stdout",
          "text": [
            "[[6.28653637]]\n"
          ]
        }
      ]
    },
    {
      "cell_type": "markdown",
      "metadata": {
        "id": "ggseowVdemyz"
      },
      "source": [
        "## Add polynomial features"
      ]
    },
    {
      "cell_type": "code",
      "metadata": {
        "id": "-JyFo5DKemy0",
        "colab": {
          "base_uri": "https://localhost:8080/"
        },
        "outputId": "0c4a2b62-f7b9-4d3d-e224-bb60cdea9475"
      },
      "source": [
        "poly = preprocessing.PolynomialFeatures(degree=5, include_bias=False)\n",
        "scaler = preprocessing.StandardScaler()\n",
        "\n",
        "pipelineLRModel = pipeline.Pipeline([('poly', poly), ('scal', scaler), ('lin', lrModel)])\n",
        "np.shape(X)\n",
        "np.shape(y)\n",
        "pipelineLRModel.fit(X, y)"
      ],
      "execution_count": null,
      "outputs": [
        {
          "output_type": "execute_result",
          "data": {
            "text/plain": [
              "Pipeline(memory=None,\n",
              "         steps=[('poly',\n",
              "                 PolynomialFeatures(degree=5, include_bias=False,\n",
              "                                    interaction_only=False, order='C')),\n",
              "                ('scal',\n",
              "                 StandardScaler(copy=True, with_mean=True, with_std=True)),\n",
              "                ('lin',\n",
              "                 LinearRegression(copy_X=True, fit_intercept=True, n_jobs=None,\n",
              "                                  normalize=False))],\n",
              "         verbose=False)"
            ]
          },
          "metadata": {},
          "execution_count": 20
        }
      ]
    },
    {
      "cell_type": "code",
      "metadata": {
        "id": "raXNbokZemy0",
        "colab": {
          "base_uri": "https://localhost:8080/",
          "height": 237
        },
        "outputId": "bc1cf290-7f92-4b57-886a-de55ee46cfc5"
      },
      "source": [
        "data.plot(kind='scatter', x=\"GDP per capita\", y='Life satisfaction', figsize=(8,3))\n",
        "plt.axis([0, 110000, 0, 10])\n",
        "\n",
        "curve = pipelineLRModel.predict(X)\n",
        "plt.plot(X,curve)\n",
        "plt.xlabel(\"GDP per capita (USD)\")\n",
        "plt.show()\n"
      ],
      "execution_count": null,
      "outputs": [
        {
          "output_type": "display_data",
          "data": {
            "image/png": "[encoded data removed]",
            "text/plain": [
              "<Figure size 576x216 with 1 Axes>"
            ]
          },
          "metadata": {
            "needs_background": "light"
          }
        }
      ]
    },
    {
      "cell_type": "code",
      "metadata": {
        "id": "-N3sQX0Vemy0",
        "colab": {
          "base_uri": "https://localhost:8080/"
        },
        "outputId": "2ef5ed92-8a50-4dc7-80e3-3f971dfb23cd"
      },
      "source": [
        "#R2\n",
        "print(pipelineLRModel.score(X, y))"
      ],
      "execution_count": null,
      "outputs": [
        {
          "output_type": "stream",
          "name": "stdout",
          "text": [
            "0.6806653014078106\n"
          ]
        }
      ]
    },
    {
      "cell_type": "markdown",
      "metadata": {
        "id": "So3dQTjPemy0"
      },
      "source": [
        "### Regularization (Ridge)"
      ]
    },
    {
      "cell_type": "code",
      "metadata": {
        "collapsed": true,
        "id": "jMGmm7x_emy1"
      },
      "source": [
        "lrModelRidge = sklearn.linear_model.Ridge(alpha=10**9.5) # alpha == lambda notation in the course\n",
        "Xsample = np.c_[data[\"GDP per capita\"]]\n",
        "ysample = np.c_[data[\"Life satisfaction\"]]\n",
        "lrModelRidge.fit(Xsample, ysample)\n",
        "w0ridge, w1ridge = lrModelRidge.intercept_[0], lrModelRidge.coef_[0][0]\n"
      ],
      "execution_count": 270,
      "outputs": []
    },
    {
      "cell_type": "code",
      "metadata": {
        "id": "TqJ2qn7Femy1",
        "colab": {
          "base_uri": "https://localhost:8080/",
          "height": 237
        },
        "outputId": "a7878e89-dd2e-4989-f7d5-1fa44b93ab02"
      },
      "source": [
        "f = plt.figure(figsize=(8,3))\n",
        "\n",
        "plt.xlabel(\"GDP per capita\")\n",
        "plt.ylabel('Life satisfaction')\n",
        "\n",
        "plt.plot(list(data[\"GDP per capita\"]), list(data[\"Life satisfaction\"]), \"bo\")\n",
        "\n",
        "x = np.linspace(0, 110000, 1000)\n",
        "plt.plot(x, w0 + w1*x, \"b:\", label=\"Linear model on sample data\")\n",
        "plt.plot(x, w0ridge + w1ridge * x, \"b\", label=\"Regularized linear model on sample data\")\n",
        "\n",
        "plt.legend(loc=\"lower right\")\n",
        "plt.axis([0, 110000, 0, 10])\n",
        "plt.xlabel(\"GDP per capita (USD)\")\n",
        "\n",
        "plt.show()"
      ],
      "execution_count": 271,
      "outputs": [
        {
          "output_type": "display_data",
          "data": {
            "image/png": "[encoded data removed]",
            "text/plain": [
              "<Figure size 576x216 with 1 Axes>"
            ]
          },
          "metadata": {
            "needs_background": "light"
          }
        }
      ]
    },
    {
      "cell_type": "code",
      "metadata": {
        "id": "AtAMvZ4Lemy2",
        "colab": {
          "base_uri": "https://localhost:8080/"
        },
        "outputId": "619e75ce-e58b-46ad-b795-509b664385d1"
      },
      "source": [
        "#R2\n",
        "print(lrModelRidge.score(X, y))"
      ],
      "execution_count": 272,
      "outputs": [
        {
          "output_type": "stream",
          "name": "stdout",
          "text": [
            "0.39354133243998385\n"
          ]
        }
      ]
    },
    {
      "cell_type": "markdown",
      "metadata": {
        "id": "MF5pFJlHemy3"
      },
      "source": [
        "## Exercise"
      ]
    },
    {
      "cell_type": "markdown",
      "metadata": {
        "id": "xYzu0kbSemy3"
      },
      "source": [
        "### 1- try LASSO regularization\n",
        "### 2- try on different data\n",
        "### 3- try with more features\n",
        "### 4- tune the regularization hyper-parameter alpha (lambda in the course)"
      ]
    },
    {
      "cell_type": "markdown",
      "metadata": {
        "id": "MlEKgrzaMlHY"
      },
      "source": [
        "##Answers :"
      ]
    },
    {
      "cell_type": "markdown",
      "metadata": {
        "id": "LWmjU6tZMoBb"
      },
      "source": [
        "LASSO regularisation :"
      ]
    },
    {
      "cell_type": "code",
      "metadata": {
        "collapsed": true,
        "id": "kxZK8dQYemy4"
      },
      "source": [
        "lrModelLASSO = sklearn.linear_model.Lasso(alpha=0.95) # alpha == lambda notation in the course\n",
        "Xsample = np.c_[data[\"GDP per capita\"]]\n",
        "ysample = np.c_[data[\"Life satisfaction\"]]\n",
        "lrModelLASSO.fit(Xsample, ysample)\n",
        "w0LASSO  = lrModelLASSO.intercept_[0]\n",
        "w1LASSO=lrModelLASSO.coef_[0]\n"
      ],
      "execution_count": 267,
      "outputs": []
    },
    {
      "cell_type": "code",
      "metadata": {
        "colab": {
          "base_uri": "https://localhost:8080/"
        },
        "id": "x4WZMwAZH5Ok",
        "outputId": "efc85f3c-0b52-45a1-e9d5-afccc4be3a90"
      },
      "source": [
        "print(lrModelLASSO.score(X, y))"
      ],
      "execution_count": 268,
      "outputs": [
        {
          "output_type": "stream",
          "name": "stdout",
          "text": [
            "0.40410998422548833\n"
          ]
        }
      ]
    },
    {
      "cell_type": "code",
      "metadata": {
        "colab": {
          "base_uri": "https://localhost:8080/",
          "height": 237
        },
        "id": "A3Yh_uyXP-xq",
        "outputId": "be248aec-437f-4d1e-8292-4d1e0c650a21"
      },
      "source": [
        "f = plt.figure(figsize=(8,3))\n",
        "\n",
        "plt.xlabel(\"GDP per capita\")\n",
        "plt.ylabel('Life satisfaction')\n",
        "\n",
        "plt.plot(list(data[\"GDP per capita\"]), list(data[\"Life satisfaction\"]), \"bo\")\n",
        "\n",
        "x = np.linspace(0, 110000, 1000)\n",
        "plt.plot(x, w0 + w1*x, \"b:\", label=\"Linear model on sample data\")\n",
        "plt.plot(x, w0LASSO + w1LASSO * x, \"b\", label=\"Regularized linear model on sample data\")\n",
        "\n",
        "plt.legend(loc=\"lower right\")\n",
        "plt.axis([0, 110000, 0, 10])\n",
        "plt.xlabel(\"GDP per capita (USD)\")\n",
        "\n",
        "plt.show()"
      ],
      "execution_count": 269,
      "outputs": [
        {
          "output_type": "display_data",
          "data": {
            "image/png": "[encoded data removed]",
            "text/plain": [
              "<Figure size 576x216 with 1 Axes>"
            ]
          },
          "metadata": {
            "needs_background": "light"
          }
        }
      ]
    },
    {
      "cell_type": "markdown",
      "metadata": {
        "id": "0hTi2Q9mYHeV"
      },
      "source": [
        "# **Different data :**"
      ]
    },
    {
      "cell_type": "markdown",
      "metadata": {
        "id": "A_1pjKA_MdyS"
      },
      "source": [
        "**Fish market :\n",
        "Database of common fish species for fish market** \n"
      ]
    },
    {
      "cell_type": "markdown",
      "metadata": {
        "id": "x9mAjSShOzkP"
      },
      "source": [
        "This dataset is a record of 7 different fish species common in fish market sales. With this data set, a predictive model can be made to predict the weight (target) of the fish."
      ]
    },
    {
      "cell_type": "markdown",
      "metadata": {
        "id": "hO_61JH3SBeT"
      },
      "source": [
        "Meanings of the Columns:\n",
        "\n",
        "\n",
        "\n",
        "* Species: Species name of fish\n",
        "* Weight: Weight of fish in gram\n",
        "* Length1: Vertical length in cm\n",
        "* Length2: Diagonal length in cm\n",
        "* Length3: Cross length in cm\n",
        "* Height: Height in cm\n",
        "* Width: Diagonal width in cm\n",
        "\n",
        "\n",
        "Our dependent variable is 'Weight'. Independent variables are 'species', different lengths, 'height' and 'width'.\n",
        "\n"
      ]
    },
    {
      "cell_type": "code",
      "metadata": {
        "id": "BKM4mPtWk0do"
      },
      "source": [
        "import sys\n",
        "import sklearn\n",
        "import os\n",
        "%matplotlib inline\n",
        "import matplotlib as mpl\n",
        "import matplotlib.pyplot as plt\n",
        "import numpy as np\n",
        "import pandas as pd\n",
        "import sklearn.linear_model\n",
        "import urllib.request\n",
        "from sklearn import preprocessing\n",
        "from sklearn import pipeline"
      ],
      "execution_count": null,
      "outputs": []
    },
    {
      "cell_type": "markdown",
      "metadata": {
        "id": "XDdW4uGPYEpt"
      },
      "source": [
        "**Download data :**"
      ]
    },
    {
      "cell_type": "code",
      "metadata": {
        "colab": {
          "base_uri": "https://localhost:8080/",
          "height": 204
        },
        "id": "3xfRtIOsX0zg",
        "outputId": "5ab076b0-e5cf-4914-8086-24fa8eaf7058"
      },
      "source": [
        "download_path = \"https://raw.githubusercontent.com/FZ-hajji/test1/main/Fish.csv\"\n",
        "data_Fish = pd.read_csv(download_path, thousands=',')\n",
        "data_Fish.head()"
      ],
      "execution_count": null,
      "outputs": [
        {
          "output_type": "execute_result",
          "data": {
            "text/html": [
              "<div>\n",
              "<style scoped>\n",
              "    .dataframe tbody tr th:only-of-type {\n",
              "        vertical-align: middle;\n",
              "    }\n",
              "\n",
              "    .dataframe tbody tr th {\n",
              "        vertical-align: top;\n",
              "    }\n",
              "\n",
              "    .dataframe thead th {\n",
              "        text-align: right;\n",
              "    }\n",
              "</style>\n",
              "<table border=\"1\" class=\"dataframe\">\n",
              "  <thead>\n",
              "    <tr style=\"text-align: right;\">\n",
              "      <th></th>\n",
              "      <th>Species</th>\n",
              "      <th>Weight</th>\n",
              "      <th>Length1</th>\n",
              "      <th>Length2</th>\n",
              "      <th>Length3</th>\n",
              "      <th>Height</th>\n",
              "      <th>Width</th>\n",
              "    </tr>\n",
              "  </thead>\n",
              "  <tbody>\n",
              "    <tr>\n",
              "      <th>0</th>\n",
              "      <td>Bream</td>\n",
              "      <td>242.0</td>\n",
              "      <td>23.2</td>\n",
              "      <td>25.4</td>\n",
              "      <td>30.0</td>\n",
              "      <td>11.5200</td>\n",
              "      <td>4.0200</td>\n",
              "    </tr>\n",
              "    <tr>\n",
              "      <th>1</th>\n",
              "      <td>Bream</td>\n",
              "      <td>290.0</td>\n",
              "      <td>24.0</td>\n",
              "      <td>26.3</td>\n",
              "      <td>31.2</td>\n",
              "      <td>12.4800</td>\n",
              "      <td>4.3056</td>\n",
              "    </tr>\n",
              "    <tr>\n",
              "      <th>2</th>\n",
              "      <td>Bream</td>\n",
              "      <td>340.0</td>\n",
              "      <td>23.9</td>\n",
              "      <td>26.5</td>\n",
              "      <td>31.1</td>\n",
              "      <td>12.3778</td>\n",
              "      <td>4.6961</td>\n",
              "    </tr>\n",
              "    <tr>\n",
              "      <th>3</th>\n",
              "      <td>Bream</td>\n",
              "      <td>363.0</td>\n",
              "      <td>26.3</td>\n",
              "      <td>29.0</td>\n",
              "      <td>33.5</td>\n",
              "      <td>12.7300</td>\n",
              "      <td>4.4555</td>\n",
              "    </tr>\n",
              "    <tr>\n",
              "      <th>4</th>\n",
              "      <td>Bream</td>\n",
              "      <td>430.0</td>\n",
              "      <td>26.5</td>\n",
              "      <td>29.0</td>\n",
              "      <td>34.0</td>\n",
              "      <td>12.4440</td>\n",
              "      <td>5.1340</td>\n",
              "    </tr>\n",
              "  </tbody>\n",
              "</table>\n",
              "</div>"
            ],
            "text/plain": [
              "  Species  Weight  Length1  Length2  Length3   Height   Width\n",
              "0   Bream   242.0     23.2     25.4     30.0  11.5200  4.0200\n",
              "1   Bream   290.0     24.0     26.3     31.2  12.4800  4.3056\n",
              "2   Bream   340.0     23.9     26.5     31.1  12.3778  4.6961\n",
              "3   Bream   363.0     26.3     29.0     33.5  12.7300  4.4555\n",
              "4   Bream   430.0     26.5     29.0     34.0  12.4440  5.1340"
            ]
          },
          "metadata": {},
          "execution_count": 70
        }
      ]
    },
    {
      "cell_type": "code",
      "metadata": {
        "colab": {
          "base_uri": "https://localhost:8080/"
        },
        "id": "8VavKGFPUEbQ",
        "outputId": "50c0b090-dbd5-4acc-a002-767f7790cc48"
      },
      "source": [
        "data_Fish.info()"
      ],
      "execution_count": null,
      "outputs": [
        {
          "output_type": "stream",
          "name": "stdout",
          "text": [
            "<class 'pandas.core.frame.DataFrame'>\n",
            "RangeIndex: 159 entries, 0 to 158\n",
            "Data columns (total 7 columns):\n",
            " #   Column   Non-Null Count  Dtype  \n",
            "---  ------   --------------  -----  \n",
            " 0   Species  159 non-null    object \n",
            " 1   Weight   159 non-null    float64\n",
            " 2   Length1  159 non-null    float64\n",
            " 3   Length2  159 non-null    float64\n",
            " 4   Length3  159 non-null    float64\n",
            " 5   Height   159 non-null    float64\n",
            " 6   Width    159 non-null    float64\n",
            "dtypes: float64(6), object(1)\n",
            "memory usage: 8.8+ KB\n"
          ]
        }
      ]
    },
    {
      "cell_type": "markdown",
      "metadata": {
        "id": "KOZkplvWjiOQ"
      },
      "source": [
        "**Processing :**"
      ]
    },
    {
      "cell_type": "markdown",
      "metadata": {
        "id": "Mt5z0HctUdkP"
      },
      "source": [
        "**Investigating Missing Values**"
      ]
    },
    {
      "cell_type": "code",
      "metadata": {
        "colab": {
          "base_uri": "https://localhost:8080/"
        },
        "id": "mS5oOY_7Umf8",
        "outputId": "70b9caa2-5a6b-4a7a-8dfe-3b0a977d260c"
      },
      "source": [
        "print(str('Is there any NaN value in the dataset: '), data_Fish.isnull().values.any())"
      ],
      "execution_count": null,
      "outputs": [
        {
          "output_type": "stream",
          "name": "stdout",
          "text": [
            "Is there any NaN value in the dataset:  False\n"
          ]
        }
      ]
    },
    {
      "cell_type": "markdown",
      "metadata": {
        "id": "PlQPmyNvi2Pp"
      },
      "source": [
        "**Separating Dependant and Independant Variables**"
      ]
    },
    {
      "cell_type": "code",
      "metadata": {
        "id": "YBmA46I3jp_J"
      },
      "source": [
        "# Dependant (Target) Variable:\n",
        "y = data_Fish['Weight']\n",
        "# Independant Variables:\n",
        "X = data_Fish.iloc[:,2:7]"
      ],
      "execution_count": null,
      "outputs": []
    },
    {
      "cell_type": "markdown",
      "metadata": {
        "id": "FZkjPZwqjwDH"
      },
      "source": [
        "**Dividing Dataset into Train and Test Datasets**"
      ]
    },
    {
      "cell_type": "code",
      "metadata": {
        "colab": {
          "base_uri": "https://localhost:8080/"
        },
        "id": "9MlKYKw3j5Sz",
        "outputId": "734b9bcf-cee7-4f71-d9de-56cfdf6517d8"
      },
      "source": [
        "from sklearn.model_selection import train_test_split\n",
        "X_train, X_test, y_train, y_test = train_test_split(X, y, test_size=0.2, random_state=1)\n",
        "print('How many samples do we have in our test and train datasets?')\n",
        "print('X_train: ', np.shape(X_train))\n",
        "print('y_train: ', np.shape(y_train))\n",
        "print('X_test: ', np.shape(X_test))\n",
        "print('y_test: ', np.shape(y_test))"
      ],
      "execution_count": null,
      "outputs": [
        {
          "output_type": "stream",
          "name": "stdout",
          "text": [
            "How many samples do we have in our test and train datasets?\n",
            "X_train:  (127, 5)\n",
            "y_train:  (127,)\n",
            "X_test:  (32, 5)\n",
            "y_test:  (32,)\n"
          ]
        }
      ]
    },
    {
      "cell_type": "markdown",
      "metadata": {
        "id": "TunHRSnQlWkH"
      },
      "source": [
        "**Simple linear regression**"
      ]
    },
    {
      "cell_type": "code",
      "metadata": {
        "colab": {
          "base_uri": "https://localhost:8080/"
        },
        "id": "f88ip_RNXn-H",
        "outputId": "2465520c-6a75-404f-f1fa-2005da9f889d"
      },
      "source": [
        "# select some  feature\n",
        "X1 = np.c_[X_train[\"Width\"]]\n",
        "y1 = np.c_[y_train] # wight\n",
        "np.shape(X1)"
      ],
      "execution_count": null,
      "outputs": [
        {
          "output_type": "execute_result",
          "data": {
            "text/plain": [
              "(127, 1)"
            ]
          },
          "metadata": {},
          "execution_count": 157
        }
      ]
    },
    {
      "cell_type": "markdown",
      "metadata": {
        "id": "Fz_K8MNSmRJ_"
      },
      "source": [
        "**Visualization**"
      ]
    },
    {
      "cell_type": "code",
      "metadata": {
        "colab": {
          "base_uri": "https://localhost:8080/",
          "height": 618
        },
        "id": "x482x57Ra8g-",
        "outputId": "f9372e21-9ec2-4558-905b-9f599330b9d4"
      },
      "source": [
        "# Visualize the sample data\n",
        "mpl.rc('axes', labelsize=14)\n",
        "mpl.rc('xtick', labelsize=12)\n",
        "mpl.rc('ytick', labelsize=12)\n",
        "\n",
        "data_Fish.plot(kind='scatter', x=\"Width\", y='Weight', figsize=(10,10))\n",
        "plt.axis([0, 10, 0, 1200])\n",
        "\n",
        "#plt.xlabel(\"GDP per capita (USD)\")\n",
        "\n",
        "plt.show()"
      ],
      "execution_count": null,
      "outputs": [
        {
          "output_type": "display_data",
          "data": {
            "image/png": "[encoded data removed]",
            "text/plain": [
              "<Figure size 720x720 with 1 Axes>"
            ]
          },
          "metadata": {
            "needs_background": "light"
          }
        }
      ]
    },
    {
      "cell_type": "markdown",
      "metadata": {
        "id": "Qx6MEusTmvHg"
      },
      "source": [
        "**Training**"
      ]
    },
    {
      "cell_type": "code",
      "metadata": {
        "colab": {
          "base_uri": "https://localhost:8080/"
        },
        "id": "Kv43uGYkdG2r",
        "outputId": "c0e03fdb-13ae-4a98-d471-44c49e383efc"
      },
      "source": [
        "lrModel = sklearn.linear_model.LinearRegression()\n",
        "\n",
        "# Train the model\n",
        "lrModel.fit(X1, y1)\n",
        "\n",
        "#model parameters\n",
        "w0, w1 = lrModel.intercept_[0], lrModel.coef_[0][0]\n",
        "\n",
        "print(lrModel.score(X1, y1))"
      ],
      "execution_count": null,
      "outputs": [
        {
          "output_type": "stream",
          "name": "stdout",
          "text": [
            "0.8044191053421011\n"
          ]
        }
      ]
    },
    {
      "cell_type": "code",
      "metadata": {
        "colab": {
          "base_uri": "https://localhost:8080/",
          "height": 613
        },
        "id": "9sqtZwAtdn5O",
        "outputId": "e3337db2-c725-4578-dfb0-052d770182c3"
      },
      "source": [
        "#plot\n",
        "data_Fish.plot(kind='scatter', x=\"Width\", y='Weight', figsize=(10,10))\n",
        "plt.axis([0, 10, 0, 1100])\n",
        "x=np.linspace(0, 10, 2)\n",
        "plt.plot(x, w0 + w1*x, \"b\")\n",
        "\n",
        "#save_fig('best_fit_model_plot')\n",
        "plt.show()"
      ],
      "execution_count": null,
      "outputs": [
        {
          "output_type": "display_data",
          "data": {
            "image/png": "[encoded data removed]",
            "text/plain": [
              "<Figure size 720x720 with 1 Axes>"
            ]
          },
          "metadata": {
            "needs_background": "light"
          }
        }
      ]
    },
    {
      "cell_type": "markdown",
      "metadata": {
        "id": "n3uPh2a7CBG0"
      },
      "source": [
        "**Add polynomial features**"
      ]
    },
    {
      "cell_type": "code",
      "metadata": {
        "colab": {
          "base_uri": "https://localhost:8080/"
        },
        "id": "vmwjqluMCGoL",
        "outputId": "0b62dbdc-e21e-4701-f7a9-45934f653d23"
      },
      "source": [
        "poly = preprocessing.PolynomialFeatures(degree=5, include_bias=False)\n",
        "scaler = preprocessing.StandardScaler()\n",
        "\n",
        "pipelineLRModel = pipeline.Pipeline([('poly', poly), ('scal', scaler), ('lin', lrModel)])\n",
        "np.shape(X1)\n",
        "np.shape(y1)\n",
        "pipelineLRModel.fit(X1, y1)"
      ],
      "execution_count": null,
      "outputs": [
        {
          "output_type": "execute_result",
          "data": {
            "text/plain": [
              "Pipeline(memory=None,\n",
              "         steps=[('poly',\n",
              "                 PolynomialFeatures(degree=5, include_bias=False,\n",
              "                                    interaction_only=False, order='C')),\n",
              "                ('scal',\n",
              "                 StandardScaler(copy=True, with_mean=True, with_std=True)),\n",
              "                ('lin',\n",
              "                 LinearRegression(copy_X=True, fit_intercept=True, n_jobs=None,\n",
              "                                  normalize=False))],\n",
              "         verbose=False)"
            ]
          },
          "metadata": {},
          "execution_count": 158
        }
      ]
    },
    {
      "cell_type": "code",
      "metadata": {
        "colab": {
          "base_uri": "https://localhost:8080/",
          "height": 232
        },
        "id": "STvl2y2QCNEZ",
        "outputId": "9bb3f314-a80d-4521-ee2e-e84163e57a74"
      },
      "source": [
        "data_Fish.plot(kind='scatter', x=\"Width\", y='Weight', figsize=(8,3))\n",
        "plt.axis([0, 10, 0, 1100])\n",
        "curve = pipelineLRModel.predict(X1)\n",
        "plt.plot(X1, curve)\n",
        "plt.show()"
      ],
      "execution_count": null,
      "outputs": [
        {
          "output_type": "display_data",
          "data": {
            "image/png": "[encoded data removed]",
            "text/plain": [
              "<Figure size 576x216 with 1 Axes>"
            ]
          },
          "metadata": {
            "needs_background": "light"
          }
        }
      ]
    },
    {
      "cell_type": "code",
      "metadata": {
        "colab": {
          "base_uri": "https://localhost:8080/"
        },
        "id": "eFylIvMDCTMp",
        "outputId": "e6a1ad96-6284-4c54-cdd9-055a38b7a233"
      },
      "source": [
        "print(pipelineLRModel.score(X1, y1))"
      ],
      "execution_count": null,
      "outputs": [
        {
          "output_type": "stream",
          "name": "stdout",
          "text": [
            "0.8617595200290298\n"
          ]
        }
      ]
    },
    {
      "cell_type": "markdown",
      "metadata": {
        "id": "KuqrGvbLngqj"
      },
      "source": [
        "**Multiple linear regression**"
      ]
    },
    {
      "cell_type": "code",
      "metadata": {
        "colab": {
          "base_uri": "https://localhost:8080/"
        },
        "id": "Sb8Fu45g4gfB",
        "outputId": "c7bf2603-14c8-44ce-d74a-152573576d11"
      },
      "source": [
        "from sklearn.linear_model import LinearRegression\n",
        "reg = LinearRegression()\n",
        "reg.fit(X_train,y_train)\n",
        "print('Model intercept: ', reg.intercept_)\n",
        "print('Model coefficients: ', reg.coef_)\n",
        "\n"
      ],
      "execution_count": null,
      "outputs": [
        {
          "output_type": "stream",
          "name": "stdout",
          "text": [
            "Model intercept:  -484.8536494736823\n",
            "Model coefficients:  [ 56.90591757  -4.63465655 -28.54481968  24.25584123  43.68347751]\n"
          ]
        }
      ]
    },
    {
      "cell_type": "markdown",
      "metadata": {
        "id": "JWu2ixl66ZK1"
      },
      "source": [
        "**Prediction**"
      ]
    },
    {
      "cell_type": "code",
      "metadata": {
        "id": "9x81wBEW5DFl"
      },
      "source": [
        "y_head = reg.predict(X_train)"
      ],
      "execution_count": null,
      "outputs": []
    },
    {
      "cell_type": "code",
      "metadata": {
        "colab": {
          "base_uri": "https://localhost:8080/"
        },
        "id": "mCo37H_l5Q0M",
        "outputId": "ab3a0f95-882f-45ed-90c5-7d55e0ca11a4"
      },
      "source": [
        "from sklearn.metrics import mean_squared_error, r2_score\n",
        "r2_score(y_train, y_head)"
      ],
      "execution_count": null,
      "outputs": [
        {
          "output_type": "execute_result",
          "data": {
            "text/plain": [
              "0.8861940780217027"
            ]
          },
          "metadata": {},
          "execution_count": 150
        }
      ]
    },
    {
      "cell_type": "markdown",
      "metadata": {
        "id": "hHKrYyfhD4c6"
      },
      "source": [
        "Regularization : Ridge"
      ]
    },
    {
      "cell_type": "markdown",
      "metadata": {
        "id": "lDe2uRk3gN9-"
      },
      "source": [
        "Tune hyper-parameter alpha :"
      ]
    },
    {
      "cell_type": "code",
      "metadata": {
        "colab": {
          "base_uri": "https://localhost:8080/"
        },
        "id": "LQFmGVnPf6wM",
        "outputId": "3c2f5553-65de-4e9b-dfaa-ff48f55ab743"
      },
      "source": [
        "#from sklearn.model_selection import RepeatedKFold\n",
        "#from numpy import arange\n",
        "#from pandas import read_csv\n",
        "from sklearn.linear_model import RidgeCV\n",
        "\n",
        "ridgecv  =RidgeCV(alphas=[0.001,0.1,1,0.5,0.01])\n",
        "ridgecv . fit( X1 ,y1 ) \n",
        "ridgecv . alpha_\n",
        "\n"
      ],
      "execution_count": 235,
      "outputs": [
        {
          "output_type": "execute_result",
          "data": {
            "text/plain": [
              "1.0"
            ]
          },
          "metadata": {},
          "execution_count": 235
        }
      ]
    },
    {
      "cell_type": "code",
      "metadata": {
        "id": "pzJ4YK_uD-1r"
      },
      "source": [
        "lrModelRidge1 = sklearn.linear_model.Ridge(alpha=1) # alpha == lambda notation in the course\n",
        "Xsample = np.c_[X1]\n",
        "ysample = np.c_[y1]\n",
        "lrModelRidge1.fit(X1, y1)\n",
        "w0ridge1, w1ridge1 = lrModelRidge1.intercept_[0], lrModelRidge1.coef_[0][0]"
      ],
      "execution_count": 245,
      "outputs": []
    },
    {
      "cell_type": "code",
      "metadata": {
        "colab": {
          "base_uri": "https://localhost:8080/"
        },
        "id": "TEwVbQFIOgyt",
        "outputId": "66a63a74-57e5-4b58-ee37-1981d11297fb"
      },
      "source": [
        "print(lrModelRidge1.score(X1, y1))"
      ],
      "execution_count": 246,
      "outputs": [
        {
          "output_type": "stream",
          "name": "stdout",
          "text": [
            "0.8044134001631282\n"
          ]
        }
      ]
    },
    {
      "cell_type": "code",
      "metadata": {
        "colab": {
          "base_uri": "https://localhost:8080/",
          "height": 618
        },
        "id": "cFxQDNlEtP86",
        "outputId": "8373bdb8-c686-4cac-f6c3-b23cf4a90a9a"
      },
      "source": [
        "f = plt.figure(figsize=(10,10))\n",
        "\n",
        "plt.xlabel(\"Width\")\n",
        "plt.ylabel('Wight')\n",
        "\n",
        "plt.plot(list(X1), list(y1), \"bo\")\n",
        "\n",
        "x = np.linspace(0, 10, 2)\n",
        "plt.plot(x, w0 + w1*x, \"b:\", label=\"Linear model on sample data\")\n",
        "plt.plot(x, w0ridge1 + w1ridge1 * x, \"b\", label=\"Regularized linear model on sample data\")\n",
        "\n",
        "plt.legend(loc=\"lower right\")\n",
        "plt.axis([0, 10, 0, 1200])\n",
        "\n",
        "\n",
        "plt.show()"
      ],
      "execution_count": 247,
      "outputs": [
        {
          "output_type": "display_data",
          "data": {
            "image/png": "[encoded data removed]",
            "text/plain": [
              "<Figure size 720x720 with 1 Axes>"
            ]
          },
          "metadata": {
            "needs_background": "light"
          }
        }
      ]
    },
    {
      "cell_type": "markdown",
      "metadata": {
        "id": "qr8mC59IpFSy"
      },
      "source": [
        "Regularization : LASSO"
      ]
    },
    {
      "cell_type": "code",
      "metadata": {
        "colab": {
          "base_uri": "https://localhost:8080/"
        },
        "id": "wjpngCF4phyH",
        "outputId": "c11550a6-9bd2-4961-fcbe-90324acca368"
      },
      "source": [
        "from sklearn.linear_model import LassoCV\n",
        "\n",
        "lassocv  =LassoCV(alphas=[0.001,0.1,1,0.5,0.01,100])\n",
        "lassocv . fit( X1 ,y1 ) \n",
        "lassocv . alpha_"
      ],
      "execution_count": 237,
      "outputs": [
        {
          "output_type": "stream",
          "name": "stderr",
          "text": [
            "/usr/local/lib/python3.7/dist-packages/sklearn/linear_model/_coordinate_descent.py:1088: DataConversionWarning: A column-vector y was passed when a 1d array was expected. Please change the shape of y to (n_samples, ), for example using ravel().\n",
            "  y = column_or_1d(y, warn=True)\n"
          ]
        },
        {
          "output_type": "execute_result",
          "data": {
            "text/plain": [
              "1.0"
            ]
          },
          "metadata": {},
          "execution_count": 237
        }
      ]
    },
    {
      "cell_type": "code",
      "metadata": {
        "id": "FDRJJBu4pJ8y"
      },
      "source": [
        "lrModelLASSO1 = sklearn.linear_model.Lasso(alpha=1) # alpha == lambda notation in the course\n",
        "Xsample = np.c_[X1]\n",
        "ysample = np.c_[y1]\n",
        "lrModelLASSO1.fit(Xsample, ysample)\n",
        "w0LASSO1= lrModelLASSO1.intercept_[0]\n",
        "w1LASSO1=lrModelLASSO1.coef_[0]"
      ],
      "execution_count": 240,
      "outputs": []
    },
    {
      "cell_type": "code",
      "metadata": {
        "colab": {
          "base_uri": "https://localhost:8080/"
        },
        "id": "XMSGctgppZ-a",
        "outputId": "2cb54be8-7bb7-4806-a861-ff19d8b202bc"
      },
      "source": [
        "print(lrModelLASSO1.score(X1, y1))"
      ],
      "execution_count": 241,
      "outputs": [
        {
          "output_type": "stream",
          "name": "stdout",
          "text": [
            "0.804416387227213\n"
          ]
        }
      ]
    },
    {
      "cell_type": "code",
      "metadata": {
        "colab": {
          "base_uri": "https://localhost:8080/",
          "height": 618
        },
        "id": "Jt1aOD06rZzO",
        "outputId": "083b2f3f-56be-4063-d2c6-8ad247b2cdd9"
      },
      "source": [
        "f = plt.figure(figsize=(10,10))\n",
        "\n",
        "plt.xlabel(\"Width\")\n",
        "plt.ylabel('Wight')\n",
        "\n",
        "plt.plot(list(X1), list(y1), \"bo\")\n",
        "\n",
        "x = np.linspace(0, 10, 2)\n",
        "plt.plot(x, w0 + w1*x, \"b:\", label=\"Linear model on sample data\")\n",
        "plt.plot(x, w0LASSO1 + w1LASSO1 * x, \"b\", label=\"Regularized linear model on sample data\")\n",
        "\n",
        "plt.legend(loc=\"lower right\")\n",
        "plt.axis([0, 10, 0, 1200])\n",
        "\n",
        "\n",
        "plt.show()"
      ],
      "execution_count": 244,
      "outputs": [
        {
          "output_type": "display_data",
          "data": {
            "image/png": "[encoded data removed]",
            "text/plain": [
              "<Figure size 720x720 with 1 Axes>"
            ]
          },
          "metadata": {
            "needs_background": "light"
          }
        }
      ]
    }
  ]
}